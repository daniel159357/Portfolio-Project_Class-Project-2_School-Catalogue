{
  "metadata": {
    "language_info": {
      "codemirror_mode": {
        "name": "python",
        "version": 3
      },
      "file_extension": ".py",
      "mimetype": "text/x-python",
      "name": "python",
      "nbconvert_exporter": "python",
      "pygments_lexer": "ipython3",
      "version": "3.8"
    },
    "kernelspec": {
      "name": "python",
      "display_name": "Python (Pyodide)",
      "language": "python"
    }
  },
  "nbformat_minor": 4,
  "nbformat": 4,
  "cells": [
    {
      "cell_type": "markdown",
      "source": "#School Catalogue in Python\nLet’s put your knowledge of classes to the test by creating a digital school catalog for the New York City Department of Education. The Department of Education wants the catalog to hold quick reference material for each school in the city.\nWe need to create classes for primary and high schools. Because these classes share properties and methods, each will inherit from a parent School class. Our parent and three child classes have the following properties, getters, setters, and methods.\n\n##School\n•\tProperties: name (string), level (one of three strings: 'primary', 'middle', or 'high'), and numberOfStudents (integer)\n•\tGetters: all properties have getters\n•\tSetters: the numberOfStudents property has a setter\n•\tMethods: A __repr__ method that displays information about the school.\n##Primary\n•\tIncludes everything in the School class, plus one additional property\n•\tProperties: pickupPolicy (string, like \"Pickup after 3pm\")\n##Middle\n•\tDoes not include any additional properties or methods\n##High\n•\tIncludes everything in the School class, plus one additional property\n•\tProperties: sportsTeams (list of strings, like ['basketball', 'tennis'])",
      "metadata": {}
    },
    {
      "cell_type": "code",
      "source": "# Create the School Class\nclass School:\n  def __init__(self, name, level, numberOfStudents):\n    self.name = name\n    self.level = level\n    self.numberOfStudents = numberOfStudents\n  #4 Getter\n  def get_name(self):\n    return self.name\n  def get_level(self):\n    return self.level\n  def get_numberOfStudents(self):\n    return self.numberOfStudents\n  #5 Setter\n  def set_numberOfStudents(self, newNumberOfStudents):\n     self.numberOfStudents = newNumberOfStudents\n  #6 print string representation\n  def __repr__(self):\n    return \"A {level} school named {name} with {numberOfStudents} students.\".format(level=self.level, name=self.name, numberOfStudents=str(self.numberOfStudents))",
      "metadata": {
        "trusted": true
      },
      "execution_count": 1,
      "outputs": []
    },
    {
      "cell_type": "code",
      "source": "#7 testing School Class\na = School(\"Codecademy\", \"high\", 100)\nprint(a)\nprint(a.get_name())\nprint(a.get_level())\na.set_numberOfStudents(200)\nprint(a.get_numberOfStudents())",
      "metadata": {},
      "execution_count": null,
      "outputs": []
    },
    {
      "cell_type": "code",
      "source": "# Create the PrimarySchool class\nclass PrimarySchool(School):\n  # PrimarySchool inherented method from  Class(School)\n  def __init__(self, name, numberOfStudents, pickupPolicy):\n    # use __init__ of Class(School)\n    super().__init__(name, \"primary\", numberOfStudents)\n    # need to create an additional class variable \n    self.pickupPolicy = pickupPolicy\n  def get_pickupPolicy(self):\n    return self.pickupPolicy\n  def __repr__(self):\n    parentRepr  = super().__repr__()\n    return parentRepr + \" The pickup policy is {pickupPolicy}.\".format(pickupPolicy = self.pickupPolicy)",
      "metadata": {
        "trusted": true
      },
      "execution_count": 2,
      "outputs": []
    },
    {
      "cell_type": "code",
      "source": "# Testing the PrimarySchool class\nb = PrimarySchool(\"Codecademy\", 300, \"Pickup Allowed\")\nprint(b.get_pickupPolicy())\nprint(b)",
      "metadata": {
        "trusted": true
      },
      "execution_count": 3,
      "outputs": [
        {
          "name": "stdout",
          "text": "Pickup Allowed\nA primary school named Codecademy with 300 students. The pickup policy is Pickup Allowed.\n",
          "output_type": "stream"
        }
      ]
    },
    {
      "cell_type": "code",
      "source": "# Create the HighSchool class\nclass HighSchool(School):\n  def __init__(self, name, numberOfStudents, sportsTeams):\n    super().__init__(name, \"high\", numberOfStudents)\n    self.sportsTeams = sportsTeams\n  def get_sportsTeams(self):\n    return self.sportsTeams\n  def __repr__(self):\n    parentRepr  = super().__repr__()\n    return parentRepr + \" The sports Teams  is {sportsTeams}.\".format(sportsTeams = self.sportsTeams)",
      "metadata": {
        "trusted": true
      },
      "execution_count": 4,
      "outputs": []
    },
    {
      "cell_type": "code",
      "source": "# testing the HighSchool class\nc = HighSchool(\"Codecademy High\", 500, [\"Tennis\", \"Basketball\"])\nprint(c.get_sportsTeams())\nprint(c)",
      "metadata": {
        "trusted": true
      },
      "execution_count": 6,
      "outputs": [
        {
          "name": "stdout",
          "text": "['Tennis', 'Basketball']\nA high school named Codecademy High with 500 students. The sports Teams  is ['Tennis', 'Basketball'].\n",
          "output_type": "stream"
        }
      ]
    }
  ]
}